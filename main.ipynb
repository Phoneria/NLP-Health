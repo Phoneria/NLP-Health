{
 "cells": [
  {
   "cell_type": "code",
   "execution_count": 1,
   "metadata": {},
   "outputs": [],
   "source": [
    "import pandas as pd\n",
    "from groq import Groq\n",
    "import json\n",
    "from prompts import * "
   ]
  },
  {
   "cell_type": "code",
   "execution_count": 2,
   "metadata": {},
   "outputs": [
    {
     "name": "stdout",
     "output_type": "stream",
     "text": [
      "0    Action The firm, Siemens, sent \"Urgent Medical...\n",
      "1    Action Smiths Medical issued an URGENT MEDICAL...\n",
      "2    Action Siemens Medical Solutions USA, Inc.  in...\n",
      "3    Action An Urgent Field Safety Notice/Product N...\n",
      "4    Action On 06/12/2023, Beckman Coulter issued a...\n",
      "Name: ACTION, dtype: object\n"
     ]
    }
   ],
   "source": [
    "df = pd.read_excel(r\"C:\\Users\\Aselsan Proje\\Desktop\\Izzet\\Codes\\NLP_Health-main\\Medical\\Data\\Processed\\merged_dataset.xlsx\")\n",
    "columns = [\"TRADE_NAME\",\"FIRM_NAME\",\"MANUFACTURER_RECALL_REASON\",\"ACTION\",\"Recall Type\"]\n",
    "df = df[columns]\n",
    "\n",
    "# Filter the DataFrame to include only rows where \"ACTION\" is not NaN\n",
    "filtered_df = df[df[\"ACTION\"].notna()]\n",
    "\n",
    "# Sample 5 random rows from the filtered DataFrame with the index reset\n",
    "random_rows = filtered_df.sample(n=5, ignore_index=True)\n",
    "\n",
    "# Print the \"ACTION\" column from the random rows\n",
    "print(random_rows[\"ACTION\"])"
   ]
  },
  {
   "cell_type": "code",
   "execution_count": 3,
   "metadata": {},
   "outputs": [
    {
     "name": "stdout",
     "output_type": "stream",
     "text": [
      "                                    processed_ACTION\n",
      "0  • Use the UFSN as an addendum to the system op...\n",
      "1  • Take the following actions: Locate all affec...\n",
      "2  • Please contact your local service organizati...\n",
      "3  • Take actions to address a safety issue expla...\n",
      "4  • Inspect tubes routed to error regions and co...\n"
     ]
    }
   ],
   "source": [
    "random_rows['processed_ACTION'] = random_rows['ACTION'].apply(process_action_text)\n",
    "print(random_rows[['processed_ACTION']])"
   ]
  },
  {
   "cell_type": "code",
   "execution_count": 4,
   "metadata": {},
   "outputs": [
    {
     "name": "stdout",
     "output_type": "stream",
     "text": [
      "                                    processed_RECALL\n",
      "0  • Improperly loaded sample racks may cause mis...\n",
      "1  • Delivery disruptions during motor non-runnin...\n",
      "2  • Workflow interruptions may occur, resulting ...\n",
      "3  • Delayed display of potential patient movemen...\n",
      "4  • Incompatible tube types used for patient sam...\n"
     ]
    }
   ],
   "source": [
    "random_rows['processed_RECALL'] = random_rows['MANUFACTURER_RECALL_REASON'].apply(process_recall_text)\n",
    "print(random_rows[['processed_RECALL']])\n"
   ]
  },
  {
   "cell_type": "code",
   "execution_count": 5,
   "metadata": {},
   "outputs": [
    {
     "name": "stdout",
     "output_type": "stream",
     "text": [
      "                                        prompt_input\n",
      "0  {\"TRADE_NAME\": \"ADVIA Centaur XP Immunoassay S...\n",
      "1  {\"TRADE_NAME\": \"smiths medical Medfusion\", \"FI...\n",
      "2  {\"TRADE_NAME\": \"Siemens\", \"FIRM_NAME\": \"Siemen...\n",
      "3  {\"TRADE_NAME\": \"ExacTrac Dynamic Software\", \"F...\n",
      "4  {\"TRADE_NAME\": \"DxA 5000 (DxA Automation Syste...\n"
     ]
    }
   ],
   "source": [
    "random_rows[\"prompt_input\"] = random_rows.apply(create_prompt_input, axis=1)\n",
    "print(random_rows[['prompt_input']])\n"
   ]
  },
  {
   "cell_type": "code",
   "execution_count": 6,
   "metadata": {},
   "outputs": [],
   "source": [
    "random_rows = random_rows.drop([\"TRADE_NAME\",\t\"FIRM_NAME\",\t\"MANUFACTURER_RECALL_REASON\",\t\"ACTION\",\t\"Recall Type\",\"processed_RECALL\"],axis=1)"
   ]
  },
  {
   "cell_type": "code",
   "execution_count": 7,
   "metadata": {},
   "outputs": [
    {
     "data": {
      "text/plain": [
       "'{\"TRADE_NAME\": \"ADVIA Centaur XP Immunoassay System\", \"FIRM_NAME\": \"Siemens Healthcare Diagnostics\", \"processed_RECALL\": \"\\\\u2022 Improperly loaded sample racks may cause misreads of Sample IDs (SID) due to actions deviating from the loading instructions.\\\\n\\\\u2022 Pushing sample racks too far on the sample entry queue during normal operation may lead to misreads of Sample IDs (SID) due to incorrect actions.\\\\n\\\\u2022 Failure to follow exact sample rack loading instructions may result in misreads of Sample IDs (SID) due to inappropriate actions.\", \"Recall Type\": \"SoftwareDesignManufacturingProcess\"}'"
      ]
     },
     "execution_count": 7,
     "metadata": {},
     "output_type": "execute_result"
    }
   ],
   "source": [
    "random_rows[\"prompt_input\"][0]"
   ]
  },
  {
   "cell_type": "code",
   "execution_count": 11,
   "metadata": {},
   "outputs": [
    {
     "name": "stdout",
     "output_type": "stream",
     "text": [
      "• Use the UFSN as an addendum to the system operating instructions until further notice and take actions accordingly.\n",
      "• Review this letter with your Medical Director and take actions to rectify the issue.\n",
      "• Complete and return the attached FIELD CORRECTION EFFECTIVENESS CHECK within the specified timeframe and take actions to comply with the instructions.\n",
      "• Retain the letter with your laboratory records and forward the letter to those who may have received this product, taking necessary actions to ensure compliance.\n",
      "• If you have any questions, contact your Siemens Customer Care Center, your local Siemens technical support representative and/or call the specified number to clarify any actions to be taken.\n"
     ]
    }
   ],
   "source": [
    "print(random_rows[\"processed_ACTION\"][0])"
   ]
  },
  {
   "cell_type": "code",
   "execution_count": 12,
   "metadata": {},
   "outputs": [],
   "source": [
    "random_rows.to_excel(r\"final.xlsx\",index= False)"
   ]
  },
  {
   "cell_type": "code",
   "execution_count": null,
   "metadata": {},
   "outputs": [],
   "source": []
  }
 ],
 "metadata": {
  "kernelspec": {
   "display_name": "base",
   "language": "python",
   "name": "python3"
  },
  "language_info": {
   "codemirror_mode": {
    "name": "ipython",
    "version": 3
   },
   "file_extension": ".py",
   "mimetype": "text/x-python",
   "name": "python",
   "nbconvert_exporter": "python",
   "pygments_lexer": "ipython3",
   "version": "3.12.7"
  }
 },
 "nbformat": 4,
 "nbformat_minor": 2
}
